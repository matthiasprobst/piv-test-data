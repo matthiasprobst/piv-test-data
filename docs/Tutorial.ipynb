{
 "cells": [
  {
   "cell_type": "markdown",
   "id": "f7e8817b-4856-4675-9b1b-698f8452dc9c",
   "metadata": {},
   "source": [
    "# Tutorial\n",
    "\n",
    "First import the package:"
   ]
  },
  {
   "cell_type": "code",
   "execution_count": 1,
   "id": "c1fc574b-eb11-4c9d-a53d-e393c80f5223",
   "metadata": {},
   "outputs": [],
   "source": [
    "import pivtestdata as ptd"
   ]
  },
  {
   "cell_type": "markdown",
   "id": "45ee1d7f-6c25-4bd6-8dc6-3862787d20a1",
   "metadata": {},
   "source": [
    "## Download a specific dataset\n",
    "\n",
    "All data - if not specified differently - is stored at the local user directory (`ptd.user_dir`).\n",
    "\n",
    "Available datasets at the moment are:\n",
    "- PIV Challenge data: http://www.pivchallenge.org/\n",
    "- Vortex Pair https://www.pivtec.com/download.html\n",
    "- Boundary Layer https://www.pivtec.com/download.html"
   ]
  },
  {
   "cell_type": "markdown",
   "id": "eb500874-f5b6-44ea-91e1-fea72845f89e",
   "metadata": {},
   "source": [
    "Let's for example, download Case 1A from the PIV Challenge:"
   ]
  },
  {
   "cell_type": "code",
   "execution_count": 2,
   "id": "0c6c5fca-8542-40c4-a7ec-cba3aca8e335",
   "metadata": {},
   "outputs": [
    {
     "data": {
      "text/plain": [
       "PivChallenge(name=piv_challenge/1/A, nimg=2, url=https://www.pivchallenge.org/pub/A/A.zip)"
      ]
     },
     "execution_count": 2,
     "metadata": {},
     "output_type": "execute_result"
    }
   ],
   "source": [
    "pc_1A = ptd.piv_challenge.pc_1A\n",
    "download_folder = pc_1A.download()\n",
    "pc_1A"
   ]
  },
  {
   "cell_type": "markdown",
   "id": "6614fcdb-aff1-4ea3-8c4e-9a0b91719214",
   "metadata": {},
   "source": [
    "All files of this case are:"
   ]
  },
  {
   "cell_type": "code",
   "execution_count": 3,
   "id": "bc528431-cec4-41b1-98c6-d7258bd9ac32",
   "metadata": {},
   "outputs": [
    {
     "name": "stdout",
     "output_type": "stream",
     "text": [
      "A001_1.tif\n",
      "A001_2.tif\n",
      "readmeA.txt\n"
     ]
    }
   ],
   "source": [
    "for file in pc_1A.all_files:\n",
    "    print(file.name)"
   ]
  },
  {
   "cell_type": "markdown",
   "id": "877f6dc4-3beb-4d61-af71-6ac701c6a47e",
   "metadata": {},
   "source": [
    "With every file, meta data is provided, too:"
   ]
  },
  {
   "cell_type": "code",
   "execution_count": 4,
   "id": "19889f57-99ac-4a91-8673-a81b4c1cd901",
   "metadata": {},
   "outputs": [
    {
     "data": {
      "text/plain": [
       "PIVImageMetaData(pixel_size_mu=(6.7, 6.7), sensor_size_mm=None, dynamic_range_bits=12, quantum_efficiency=0.4, full_well_capacity=25000, readout_noise=8, field_of_view_m=(0.17, 0.14), lens_focal_length_mm=None, lens_f_number=None)"
      ]
     },
     "execution_count": 4,
     "metadata": {},
     "output_type": "execute_result"
    }
   ],
   "source": [
    "pc_1A.meta"
   ]
  },
  {
   "cell_type": "markdown",
   "id": "4664328c-fc40-4a8b-a4d6-7d26162c38c8",
   "metadata": {},
   "source": [
    "Note, that there is a README file,where you can verify the content of the meta data object:"
   ]
  },
  {
   "cell_type": "code",
   "execution_count": 5,
   "id": "fd48c317-a9c3-4d4e-bca0-5dbbbb08b160",
   "metadata": {},
   "outputs": [
    {
     "name": "stdout",
     "output_type": "stream",
     "text": [
      "Instructions for the analysis of case A : \n",
      "Loss of seeding in the core of a tip vortex\n",
      "26.10.2000 \t\tchristian.kaehler@dlr.de\n",
      "\n",
      "Image A001_1.tif and A001_2.tif were recorded at the DNW-LLF in order\n",
      "to study experimentally the wake vortex formation behind a transport\n",
      "aircraft (DLR ALVAST half model) in landing configuration (U=60 m/s,\n",
      "main flow direction is perpendicular to the light-sheet plane). The\n",
      "measurement position was 1.64 m behind the wing tip and the field of\n",
      "view is 170 mm by 140 mm. The images were selected as strong gradients,\n",
      "loss of image density, and varying particle image sizes are common\n",
      "problems for many PIV applications in large wind tunnels.  \n",
      "\n",
      "\n",
      "Camera characteristics:\n",
      "\n",
      "Type                                \tPCO SensiCam, see http://www.pco.de \n",
      "Sensor technology              \t\tProgressive Scan\n",
      "Resolution                          \t1280 pixel x1024 pixel.\n",
      "Pixel   size                       \t6.7 micrometer x 6.7 micrometer\n",
      "Dynamic range                     \t12 bits (Peltier cooled) \n",
      "Quantum efficiency             \t\ttyp 40 % \n",
      "Full well capacity                  \t25000 e \n",
      "Readout noise @ 12.5MHz\t\t\t7 ... 8 e\n",
      "\t\t\t\n",
      "\n",
      "The reference analysis for this case is :\n",
      "\n",
      ":ev_IS_size_x                           = 32;\n",
      ":ev_IS_size_y                           = 32;\n",
      ":ev_IS_size_unit\t\t\t= \"pixel\";\n",
      ":ev_IS_grid_distance_x                \t= 16; \n",
      ":ev_IS_grid_distance_y               \t= 16; \n",
      ":ev_IS_grid_distance_unit\t\t= \"pixel\"; \n",
      ":ev_origin_of_evaluation\t\t= 16, 16;\n",
      ":ev_origin_of_evaluation_units    \t= \"pixel\";\n",
      ":ev_IS_offset                        \t= 0, 0;\n",
      ":ev_IS_offset_units                \t= \"pixel\";\n",
      "\n",
      "\n",
      "\n",
      "The mandatory data to be provided are :\n",
      "\n",
      "Raw data : A001_team_ref_raw.nc\n",
      "\n",
      "- the raw displacement field corresponding to the highest correlation peak \n",
      "- the value of the highest correlation peak for all interrogation positions \n",
      "- the correlation values used for the sub-pixel interpolation at the  \n",
      "  following locations (see table) ; eg. 3 x 3 neighbourhood\n",
      "- the whole correlation plane (extra file in tecplot format!) calculated \n",
      "  at the following locations (see table)\n",
      "\n",
      "x (pixels)\ty (pixels)\n",
      "512\t\t640\n",
      "528\t\t528\n",
      "800\t\t512\n",
      "----------------------------------------------------------------------------\n",
      "\n",
      "\n"
     ]
    }
   ],
   "source": [
    "print(pc_1A.readme)"
   ]
  }
 ],
 "metadata": {
  "kernelspec": {
   "display_name": "Python 3 (ipykernel)",
   "language": "python",
   "name": "python3"
  },
  "language_info": {
   "codemirror_mode": {
    "name": "ipython",
    "version": 3
   },
   "file_extension": ".py",
   "mimetype": "text/x-python",
   "name": "python",
   "nbconvert_exporter": "python",
   "pygments_lexer": "ipython3",
   "version": "3.8.18"
  }
 },
 "nbformat": 4,
 "nbformat_minor": 5
}
