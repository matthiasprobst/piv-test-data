{
 "cells": [
  {
   "cell_type": "markdown",
   "id": "f7e8817b-4856-4675-9b1b-698f8452dc9c",
   "metadata": {},
   "source": [
    "# Tutorial\n",
    "\n",
    "First import the package:"
   ]
  },
  {
   "cell_type": "code",
   "execution_count": null,
   "id": "c1fc574b-eb11-4c9d-a53d-e393c80f5223",
   "metadata": {},
   "outputs": [],
   "source": [
    "import pivtestdata as ptd"
   ]
  },
  {
   "cell_type": "markdown",
   "id": "45ee1d7f-6c25-4bd6-8dc6-3862787d20a1",
   "metadata": {},
   "source": [
    "## Download a specific dataset\n",
    "\n",
    "All data - if not specified differently - is stored at the local user directory (`ptd.user_dir`).\n",
    "\n",
    "Available datasets at the moment are:\n",
    "- PIV Challenge data: http://www.pivchallenge.org/\n",
    "- Vortex Pair https://www.pivtec.com/download.html\n",
    "- Boundary Layer https://www.pivtec.com/download.html"
   ]
  },
  {
   "cell_type": "markdown",
   "id": "eb500874-f5b6-44ea-91e1-fea72845f89e",
   "metadata": {},
   "source": [
    "Let's for example, download Case 1A from the PIV Challenge:"
   ]
  },
  {
   "cell_type": "code",
   "execution_count": null,
   "id": "0c6c5fca-8542-40c4-a7ec-cba3aca8e335",
   "metadata": {},
   "outputs": [],
   "source": [
    "pc_1A = ptd.piv_challenge.pc_1A\n",
    "download_folder = pc_1A.download()\n",
    "pc_1A"
   ]
  },
  {
   "cell_type": "markdown",
   "id": "6614fcdb-aff1-4ea3-8c4e-9a0b91719214",
   "metadata": {},
   "source": [
    "All files of this case are:"
   ]
  },
  {
   "cell_type": "code",
   "execution_count": null,
   "id": "bc528431-cec4-41b1-98c6-d7258bd9ac32",
   "metadata": {},
   "outputs": [],
   "source": [
    "for file in pc_1A.all_files:\n",
    "    print(file.name)"
   ]
  },
  {
   "cell_type": "markdown",
   "id": "877f6dc4-3beb-4d61-af71-6ac701c6a47e",
   "metadata": {},
   "source": [
    "With every file, meta data is provided, too:"
   ]
  },
  {
   "cell_type": "code",
   "execution_count": null,
   "id": "19889f57-99ac-4a91-8673-a81b4c1cd901",
   "metadata": {},
   "outputs": [],
   "source": [
    "pc_1A.meta"
   ]
  },
  {
   "cell_type": "markdown",
   "id": "4664328c-fc40-4a8b-a4d6-7d26162c38c8",
   "metadata": {},
   "source": [
    "Note, that there is a README file,where you can verify the content of the meta data object:"
   ]
  },
  {
   "cell_type": "code",
   "execution_count": null,
   "id": "fd48c317-a9c3-4d4e-bca0-5dbbbb08b160",
   "metadata": {},
   "outputs": [],
   "source": [
    "print(pc_1A.readme)"
   ]
  }
 ],
 "metadata": {
  "kernelspec": {
   "display_name": "Python 3 (ipykernel)",
   "language": "python",
   "name": "python3"
  },
  "language_info": {
   "codemirror_mode": {
    "name": "ipython",
    "version": 3
   },
   "file_extension": ".py",
   "mimetype": "text/x-python",
   "name": "python",
   "nbconvert_exporter": "python",
   "pygments_lexer": "ipython3",
   "version": "3.8.18"
  }
 },
 "nbformat": 4,
 "nbformat_minor": 5
}
