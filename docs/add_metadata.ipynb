{
 "cells": [
  {
   "cell_type": "markdown",
   "id": "192131a2-0b74-4ef9-bfa2-31adb00d5f9f",
   "metadata": {},
   "source": [
    "# Adding metadata\n",
    "\n",
    "Most cases come with a README file, which is a good thing. However, it is not a structured and standardized metadata resource. Better and good practice is to provide a JSON-LD file. We can use `pivmetadlib` to write it.\n",
    "\n",
    "Consider Case A from the PIV Challenge 2001. It has the following information, which was combined (scattered metadata should be avoided) on the website and the README.txt file:"
   ]
  },
  {
   "cell_type": "raw",
   "id": "1c8e154c-e8f5-4468-b1c4-65446c38f832",
   "metadata": {},
   "source": [
    "----------------------------------------------------------------------------\n",
    "Instructions for the analysis of case A : \n",
    "Loss of seeding in the core of a tip vortex\n",
    "26.10.2000 \t\tchristian.kaehler@dlr.de\n",
    "\n",
    "Image A001_1.tif and A001_2.tif were recorded at the DNW-LLF in order\n",
    "to study experimentally the wake vortex formation behind a transport\n",
    "aircraft (DLR ALVAST half model) in landing configuration (U=60 m/s,\n",
    "main flow direction is perpendicular to the light-sheet plane). The\n",
    "measurement position was 1.64 m behind the wing tip and the field of\n",
    "view is 170 mm by 140 mm. The images were selected as strong gradients,\n",
    "loss of image density, and varying particle image sizes are common\n",
    "problems for many PIV applications in large wind tunnels.  \n",
    "\n",
    "Camera characteristics:\n",
    "\n",
    "Type                                \tPCO SensiCam, see http://www.pco.de \n",
    "Sensor technology              \t\tProgressive Scan\n",
    "Resolution                          \t1280 pixel x1024 pixel.\n",
    "Pixel   size                       \t6.7 micrometer x 6.7 micrometer\n",
    "Dynamic range                     \t12 bits (Peltier cooled) \n",
    "Quantum efficiency             \t\ttyp 40 % \n",
    "Full well capacity                  \t25000 e \n",
    "Readout noise @ 12.5MHz\t\t\t7 ... 8 e\n",
    "\t\t\t\n",
    "\n",
    "The reference analysis for this case is :\n",
    "\n",
    ":ev_IS_size_x                           = 32;\n",
    ":ev_IS_size_y                           = 32;\n",
    ":ev_IS_size_unit\t\t\t= \"pixel\";\n",
    ":ev_IS_grid_distance_x                \t= 16; \n",
    ":ev_IS_grid_distance_y               \t= 16; \n",
    ":ev_IS_grid_distance_unit\t\t= \"pixel\"; \n",
    ":ev_origin_of_evaluation\t\t= 16, 16;\n",
    ":ev_origin_of_evaluation_units    \t= \"pixel\";\n",
    ":ev_IS_offset                        \t= 0, 0;\n",
    ":ev_IS_offset_units                \t= \"pixel\";\n",
    "\n",
    "\n",
    "\n",
    "The mandatory data to be provided are :\n",
    "\n",
    "Raw data : A001_team_ref_raw.nc\n",
    "\n",
    "- the raw displacement field corresponding to the highest correlation peak \n",
    "- the value of the highest correlation peak for all interrogation positions \n",
    "- the correlation values used for the sub-pixel interpolation at the  \n",
    "  following locations (see table) ; eg. 3 x 3 neighbourhood\n",
    "- the whole correlation plane (extra file in tecplot format!) calculated \n",
    "  at the following locations (see table)\n",
    "\n",
    "x (pixels)\ty (pixels)\n",
    "512\t\t640\n",
    "528\t\t528\n",
    "800\t\t512\n",
    "----------------------------------------------------------------------------"
   ]
  },
  {
   "cell_type": "markdown",
   "id": "741819e5-0dec-4715-b75b-f8da9444a0b2",
   "metadata": {},
   "source": [
    "We can identify the following parts in those information:\n",
    "- personal information (contact)\n",
    "- case information (title, date, abstract)\n",
    "- camera information (characteristics)\n",
    "- PIV parameters used for the reference analysis\n",
    "- description on how data should be provided (this is"
   ]
  },
  {
   "cell_type": "code",
   "execution_count": null,
   "id": "ce76c6bd-32e7-41da-893a-50ea75120f8c",
   "metadata": {},
   "outputs": [],
   "source": [
    "from piv2hdf import pivmetalib\n",
    "from h5rdmtoolbox.convention import metadata"
   ]
  },
  {
   "cell_type": "markdown",
   "id": "043a9ec5-c02e-4c39-9329-f388b326925a",
   "metadata": {},
   "source": [
    "## Personal information (contact information)"
   ]
  },
  {
   "cell_type": "code",
   "execution_count": null,
   "id": "69eb5adf-03d5-492f-a7a7-0102c73e1b21",
   "metadata": {},
   "outputs": [],
   "source": [
    "contact = pivmetalib.Person(mbox=\"christian.kaehler@dlr.de\")"
   ]
  },
  {
   "cell_type": "markdown",
   "id": "72272f1a-410f-4018-a2f7-c0b055e9320a",
   "metadata": {},
   "source": [
    "## Case information"
   ]
  },
  {
   "cell_type": "code",
   "execution_count": null,
   "id": "be3fd9ab-8cae-4743-a601-45e28707a54c",
   "metadata": {},
   "outputs": [],
   "source": [
    "caseinfo = pivmetalib.DescriptiveData(title=\"Loss of seeding in the core of a tip vortex\",\n",
    "                                         description=\"\"\"Image A001_1.tif and A001_2.tif were recorded at the DNW-LLF in order\n",
    "to study experimentally the wake vortex formation behind a transport\n",
    "aircraft (DLR ALVAST half model) in landing configuration (U=60 m/s,\n",
    "main flow direction is perpendicular to the light-sheet plane). The\n",
    "measurement position was 1.64 m behind the wing tip and the field of\n",
    "view is 170 mm by 140 mm. The images were selected as strong gradients,\n",
    "loss of image density, and varying particle image sizes are common\n",
    "problems for many PIV applications in large wind tunnels.\"\"\",\n",
    "                                         keywords=[\"piv\", \"piv-challenge\"],\n",
    "                                         dates={'uploaded': '26.10.2000'}) # https://schema.org/uploadDate"
   ]
  },
  {
   "cell_type": "markdown",
   "id": "645e0075-7017-4873-892e-c558e16cb393",
   "metadata": {},
   "source": [
    "## Camera Info"
   ]
  },
  {
   "cell_type": "code",
   "execution_count": null,
   "id": "7005da8a-46b4-4fde-829c-ecdf11a843d6",
   "metadata": {},
   "outputs": [],
   "source": [
    "# camera = pivmetalib.Camera(type"
   ]
  },
  {
   "cell_type": "code",
   "execution_count": null,
   "id": "a9700d4c-6914-48f6-addb-911e4668d1d5",
   "metadata": {},
   "outputs": [],
   "source": [
    "pivmetalib.HorizontalSensorResolutio"
   ]
  },
  {
   "cell_type": "code",
   "execution_count": null,
   "id": "34882e60-ce06-4330-85c8-1eeceba83e37",
   "metadata": {},
   "outputs": [],
   "source": [
    "pivmetalib.HorizontalSensorResolution(value=1024, units='px')"
   ]
  },
  {
   "cell_type": "code",
   "execution_count": null,
   "id": "983ad355-17c8-419f-af98-fa0678af367b",
   "metadata": {},
   "outputs": [],
   "source": [
    "pco = pivmetalib.Organization(name='pco', url=\"http://www.pco.de\")"
   ]
  },
  {
   "cell_type": "code",
   "execution_count": null,
   "id": "b8cb3a54-fc5a-421b-92ab-f8e401e8cb26",
   "metadata": {},
   "outputs": [],
   "source": [
    "# quantum_efficiency = pivmetalib.Variable(\n",
    "#     label = 'quantum efficiency', # =prefLabel =HDF dataset name\n",
    "#     value = 0.1,  # HDF5 data\n",
    "#     standard_name ='https://matthiasprobst.github.io/piv-convention#quantum_efficiency',\n",
    "#     # ...\n",
    "# )"
   ]
  },
  {
   "cell_type": "code",
   "execution_count": null,
   "id": "0127b9d2-71ab-49ea-a127-fbc729098191",
   "metadata": {},
   "outputs": [],
   "source": [
    "# quantum_efficiency = pivmetalib.Variable(\n",
    "#     label = 'quantum efficiency', # =prefLabel =HDF dataset name\n",
    "#     value = 0.1,  # HDF5 data\n",
    "#     standard_name = {'name': 'quantum_efficiency',\n",
    "#                      'standard_name_table': 'https://url/to/my/snt',\n",
    "#                      'dbpedia':\"https://dbpedia.org/page/Quantum_efficiency\",\n",
    "#                      'quantity_kind':None}\n",
    "#     # ...\n",
    "# )"
   ]
  },
  {
   "cell_type": "code",
   "execution_count": null,
   "id": "9c498ecf-9a59-45fe-aa27-45689f7cb8cb",
   "metadata": {},
   "outputs": [],
   "source": [
    "# quantum_efficiency = pivmetalib.Variable(\n",
    "#     label = 'quantum efficiency', # =prefLabel =HDF dataset name\n",
    "#     value = 0.1,  # HDF5 data\n",
    "#     standard_name = pivmetalib.utils.sn_from_snt('quantum_efficiency', table='url')\n",
    "#     # ...\n",
    "# )"
   ]
  },
  {
   "cell_type": "code",
   "execution_count": null,
   "id": "35e7b827-2372-4a27-bc85-3fe3b56e1485",
   "metadata": {},
   "outputs": [],
   "source": [
    "qe = pivmetalib.QuantumEfficiency(value=0.1)"
   ]
  },
  {
   "cell_type": "code",
   "execution_count": null,
   "id": "99fc924c-b854-483a-991b-9fcb6cf579dc",
   "metadata": {},
   "outputs": [],
   "source": [
    "# camera can be real or synthetic, should there be a difference?\n",
    "# A camera is a tool. all parameters are Values which will be interprted as \"hasParameter\"\n",
    "# if a parameter is defined, then it has a standard name\n",
    "camera = pivmetalib.Camera(type=\"PCO SensiCam\",\n",
    "                            manufacturer=pco,\n",
    "                            horizontal_sensor_resolution=pivmetalib.HorizontalSensorResolution(value=1024, units='px'),\n",
    "                            vertical_sensor_resolution=pivmetalib.VerticalSensorResolution(value=1024, units='px'),\n",
    "                            # vertical_sensor_resolution=1024,\n",
    "                            sensor_pixel_width={'value': 6.7, 'units': 'um'},\n",
    "                            sensor_pixel_height={'value': 6.7, 'units': 'um'},\n",
    "                            # dynamic_range=12, # bits\n",
    "                            quantum_efficiency=qe,\n",
    "                            # quantum_efficiency={'value': 0.1,\n",
    "                            #                    'standard_name': 'https://matthiasprobst.github.io/piv-convention#quantum_efficiency'}, # s.n. is defined as an individual in ontology. otherwise could by\n",
    "                            # # free entries:\n",
    "                            full_well_capacity='25000 e',\n",
    "                            readout_noise='@12.5 MHz: 7...8 e'\n",
    "                            # horizontal_ccd_dill_ratio=None, # for synthetic\n",
    "                            # vertical_ccd_dill_ratio=None, # for synthetic\n",
    "                           )\n",
    "# print(camera.jsonld_dump())"
   ]
  },
  {
   "cell_type": "code",
   "execution_count": null,
   "id": "a0a64ffd-9feb-4c30-ab37-1752430e71a9",
   "metadata": {},
   "outputs": [],
   "source": [
    "print(camera.jsonld_dump(indent=2))"
   ]
  },
  {
   "cell_type": "code",
   "execution_count": null,
   "id": "91ebaf95-ec3a-4238-af31-56ace06c9428",
   "metadata": {},
   "outputs": [],
   "source": [
    "from piv2hdf.pivmetalib.utils import is_m4itool\n",
    "\n",
    "# import abc\n",
    "# class Individual(abc.ABC):\n",
    "#     @abc.abstractmethod\n",
    "#     def json_dump():\n",
    "#         pass\n",
    "    \n",
    "\n",
    "# def parse_individual():\n",
    "#     pass\n",
    "\n",
    "def jsonld_dump_many(*models):\n",
    "    \"\"\"\n",
    "\n",
    "    TODO: parse such that hasParameter is set\n",
    "\n",
    "    We have Tools and Variables as generic types together with the generic concept of the StandardName\n",
    "    we can give sense to the tool and method parameters! That's the idea behind it!\n",
    "\n",
    "    Also StandardName uses quantityKind instead of canoncial unit! More state of the art!\n",
    "\n",
    "    Digital camera is not needed. It is a tool with standardized Parameters (=Variable with standard name)\n",
    "\n",
    "    \"\"\"\n",
    "    context = {}\n",
    "    for model in models:\n",
    "        context.update(model._context)\n",
    "    d = {'@context': context,\n",
    "        '@graph': []}\n",
    "    \n",
    "    for i, model in enumerate(models):\n",
    "\n",
    "        d['@graph'].append(json.loads(model.jsonld_dump(exclude_context=True)))\n",
    "        \n",
    "        # modeltype = model._type\n",
    "        # data = model.get_data()  \n",
    "        # extra_data = model._extra_fields\n",
    "        \n",
    "        # # print(modeltype, is_m4itool(modeltype, context))\n",
    "        # if is_m4itool(modeltype, context):\n",
    "        #     # every field is a m4i:Variable or m4i:Organization\n",
    "        #     for field in model._model.model_fields:\n",
    "        #         print(field)\n",
    "        #     # for field in data.\n",
    "        \n",
    "        # if modeltype is None:\n",
    "        #     d['@graph'].append({'@id': f'_:b{i}', **data, **extra_data})\n",
    "        # else:\n",
    "        #     d['@graph'].append({'@id': f'_:b{i}', '@type': modeltype, **data, **extra_data})\n",
    "    # pprint(d)\n",
    "    return d\n",
    "\n",
    "import json\n",
    "\n",
    "with open('pivmetadata.jsonld', 'w') as f:\n",
    "    json.dump(jsonld_dump_many(contact, camera, caseinfo), f, indent=2)"
   ]
  },
  {
   "cell_type": "code",
   "execution_count": null,
   "id": "7f97bbdc-fa2a-425e-b4d7-af99fdf49b76",
   "metadata": {},
   "outputs": [],
   "source": [
    "# camera._model.model_fields['manufacturer']"
   ]
  },
  {
   "cell_type": "code",
   "execution_count": null,
   "id": "3584fe5a-207a-431a-baaf-03f8b6113aec",
   "metadata": {},
   "outputs": [],
   "source": []
  },
  {
   "cell_type": "code",
   "execution_count": null,
   "id": "00ab4957-581d-482a-b3b8-69f65e2bfc6c",
   "metadata": {},
   "outputs": [],
   "source": [
    "import h5rdmtoolbox as h5tbx\n",
    "\n",
    "with h5tbx.File() as h5:\n",
    "    data = h5.create_group('data')\n",
    "    metadata = h5.create_group('metadata')\n",
    "    \n",
    "    case_info = metadata.create_group('case_info')\n",
    "    caseinfo.write(case_info)\n",
    "    \n",
    "    \n",
    "    contacts = metadata.create_group('contacts/contact')\n",
    "    contact.write(contacts)\n",
    "\n",
    "    cam_grp = metadata.create_group('instruments/camera')\n",
    "    camera.write(cam_grp)\n",
    "    \n",
    "    h5.dump(True)\n",
    "filename = h5.hdf_filename"
   ]
  },
  {
   "cell_type": "code",
   "execution_count": null,
   "id": "6e7f6032-f1c4-4be1-9d3b-b54d34a9156a",
   "metadata": {},
   "outputs": [],
   "source": [
    "from h5rdmtoolbox.wrapper.jsonld import dumps"
   ]
  },
  {
   "cell_type": "markdown",
   "id": "c8b1d9d4-4901-4de7-a7c5-4dedcb8db054",
   "metadata": {},
   "source": [
    "## Dump the content of the HDF5 file into a JSON-LD file\n",
    "\n",
    "You may reformat it with [JSON-LD Playground](https://json-ld.org/playground/)"
   ]
  },
  {
   "cell_type": "code",
   "execution_count": null,
   "id": "cddd83a1-860d-43e0-bb99-d56c47fac2f1",
   "metadata": {},
   "outputs": [],
   "source": [
    "with h5tbx.File(filename) as h5:\n",
    "    print(dumps(h5, indent=2))"
   ]
  },
  {
   "cell_type": "code",
   "execution_count": null,
   "id": "844b743f-f7ad-447c-affe-fda2c97237ad",
   "metadata": {},
   "outputs": [],
   "source": []
  }
 ],
 "metadata": {
  "kernelspec": {
   "display_name": "Python 3 (ipykernel)",
   "language": "python",
   "name": "python3"
  },
  "language_info": {
   "codemirror_mode": {
    "name": "ipython",
    "version": 3
   },
   "file_extension": ".py",
   "mimetype": "text/x-python",
   "name": "python",
   "nbconvert_exporter": "python",
   "pygments_lexer": "ipython3",
   "version": "3.8.18"
  }
 },
 "nbformat": 4,
 "nbformat_minor": 5
}
