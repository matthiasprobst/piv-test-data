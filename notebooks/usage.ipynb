{
 "cells": [
  {
   "cell_type": "markdown",
   "id": "f7e8817b-4856-4675-9b1b-698f8452dc9c",
   "metadata": {},
   "source": [
    "# Usage\n",
    "\n",
    "First import the package:"
   ]
  },
  {
   "cell_type": "code",
   "execution_count": 1,
   "id": "c1fc574b-eb11-4c9d-a53d-e393c80f5223",
   "metadata": {},
   "outputs": [],
   "source": [
    "import pivtestdata as ptd"
   ]
  },
  {
   "cell_type": "markdown",
   "id": "2028bb52-709f-4e08-a22e-955479e844bf",
   "metadata": {},
   "source": [
    "## Getting data:"
   ]
  },
  {
   "cell_type": "markdown",
   "id": "3a3bc343-14ad-4f86-8421-1d16067e3ae7",
   "metadata": {},
   "source": [
    "All data - if not specified differently - is stored at the local user directory (`ptd.user_dir`). You may want to delete all previously downloaded data there:"
   ]
  },
  {
   "cell_type": "code",
   "execution_count": 2,
   "id": "c50afbff-f511-42f5-b7a2-a941354f5871",
   "metadata": {},
   "outputs": [],
   "source": [
    "# ptd.delete_all_downloaded_files()"
   ]
  },
  {
   "cell_type": "markdown",
   "id": "84ec557d-11e7-4d11-8681-5c665e96999b",
   "metadata": {},
   "source": [
    "To download all available data, simply call the following (will only download data if not yet exists in the target folder):"
   ]
  },
  {
   "cell_type": "code",
   "execution_count": null,
   "id": "5ee96c20-1d99-4c41-bde1-f7a168af3157",
   "metadata": {},
   "outputs": [
    {
     "name": "stderr",
     "output_type": "stream",
     "text": [
      "piv_challenge/3/A1:   3%|█▋                                                         | 4.88M/175M [00:25<10:57, 259kB/s]"
     ]
    }
   ],
   "source": [
    "ptd.download_all()"
   ]
  },
  {
   "cell_type": "markdown",
   "id": "45ee1d7f-6c25-4bd6-8dc6-3862787d20a1",
   "metadata": {},
   "source": [
    "## Work with a single test data set:\n",
    "\n",
    "Let's take work with the vortex pair data provided by PivTec:"
   ]
  },
  {
   "cell_type": "code",
   "execution_count": null,
   "id": "0c6c5fca-8542-40c4-a7ec-cba3aca8e335",
   "metadata": {},
   "outputs": [],
   "source": [
    "vortex_pair = ptd.pivtec.vortex_pair\n",
    "vortex_pair.download()\n",
    "vortex_pair"
   ]
  },
  {
   "cell_type": "markdown",
   "id": "176f7aae-cc38-4fc8-aba1-9d6c5f5a6f49",
   "metadata": {},
   "source": [
    "We can get the images (in this case two = one double image) and plot them:"
   ]
  },
  {
   "cell_type": "code",
   "execution_count": null,
   "id": "59b58c6f-5845-45e6-9576-3872ab517e4d",
   "metadata": {},
   "outputs": [],
   "source": [
    "import matplotlib.pyplot as plt\n",
    "\n",
    "fig, axs = plt.subplots(1, 2)\n",
    "axs[0].imshow(vortex_pair.A[0])\n",
    "axs[1].imshow(vortex_pair.B[0])\n",
    "plt.show()"
   ]
  },
  {
   "cell_type": "code",
   "execution_count": null,
   "id": "6974a4d0-03ab-4bfa-bdec-a04aa91cb94f",
   "metadata": {},
   "outputs": [],
   "source": []
  }
 ],
 "metadata": {
  "kernelspec": {
   "display_name": "Python 3 (ipykernel)",
   "language": "python",
   "name": "python3"
  },
  "language_info": {
   "codemirror_mode": {
    "name": "ipython",
    "version": 3
   },
   "file_extension": ".py",
   "mimetype": "text/x-python",
   "name": "python",
   "nbconvert_exporter": "python",
   "pygments_lexer": "ipython3",
   "version": "3.8.15"
  }
 },
 "nbformat": 4,
 "nbformat_minor": 5
}
